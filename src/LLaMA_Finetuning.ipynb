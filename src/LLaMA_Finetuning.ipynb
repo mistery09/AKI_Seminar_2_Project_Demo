{
  "nbformat": 4,
  "nbformat_minor": 0,
  "metadata": {
    "colab": {
      "provenance": []
    },
    "kernelspec": {
      "name": "python3",
      "display_name": "Python 3"
    },
    "language_info": {
      "name": "python"
    }
  },
  "cells": [
    {
      "cell_type": "markdown",
      "source": [
        "# AKI Seminar2 Demo\n",
        "## Finetuning of LLaMA\n",
        "\n",
        "by Syon Kadkade"
      ],
      "metadata": {
        "id": "8fB3xqHnZJ_j"
      }
    },
    {
      "cell_type": "code",
      "execution_count": null,
      "metadata": {
        "id": "RzYMEFm-ZFdG"
      },
      "outputs": [],
      "source": []
    }
  ]
}